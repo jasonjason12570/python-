{
 "cells": [
  {
   "cell_type": "code",
   "execution_count": 122,
   "id": "f7d8f03e",
   "metadata": {},
   "outputs": [],
   "source": [
    "import requests\n",
    "import pandas as pd\n",
    "import numpy as np\n",
    "import math\n",
    "import matplotlib.pyplot as plt\n",
    "import seaborn as sns\n",
    "from sklearn import datasets, linear_model\n",
    "from sklearn.metrics import mean_squared_error"
   ]
  },
  {
   "cell_type": "code",
   "execution_count": 22,
   "id": "f2c28ce3",
   "metadata": {},
   "outputs": [],
   "source": [
    "source = 'https://statis.moi.gov.tw/micst/stmain.jsp?sys=220&ym=10201&ymt=10606&kind=21&type=1&funid=c0540801&cycle=1&outmode=0&compmode=0&outkind=1&fldlst=101&cod06=1&rdm=jZnWYqZm'"
   ]
  },
  {
   "cell_type": "code",
   "execution_count": 23,
   "id": "7c16546e",
   "metadata": {},
   "outputs": [],
   "source": [
    "import pprint\n",
    "import requests\n",
    "from lxml import etree\n",
    "\n",
    "\n",
    "def get_table_from_html(html):\n",
    "    tree = etree.HTML(html)\n",
    "    # 寻找所有的table标签\n",
    "    table_lst = tree.xpath(\"//table\")\n",
    "    table_data_lst = []\n",
    "    for table in table_lst:\n",
    "        table_data_lst.append(get_table(table))\n",
    "\n",
    "    return table_data_lst\n",
    "\n",
    "\n",
    "def get_table(table_ele):\n",
    "    \"\"\"\n",
    "    获取table数据\n",
    "    :param table_ele:\n",
    "    :return:\n",
    "    \"\"\"\n",
    "    tr_lst = table_ele.xpath(\".//tr\")\n",
    "    # 第一行通常来说都是标题\n",
    "    title_data = get_title(tr_lst[0])\n",
    "    # 第一行后面都是数据\n",
    "    data = get_data(tr_lst[1:])\n",
    "\n",
    "    return {\n",
    "        'title': title_data,\n",
    "        'data': data\n",
    "    }\n",
    "\n",
    "\n",
    "def get_title(tr_ele):\n",
    "    \"\"\"\n",
    "    获取标题\n",
    "    标题可能用th 标签，也可能用td标签\n",
    "    :param tr_ele:\n",
    "    :return:\n",
    "    \"\"\"\n",
    "    # 先寻找th标签\n",
    "    title_lst = get_tr_data_by_tag(tr_ele, 'th')\n",
    "    if not title_lst:\n",
    "        title_lst = get_tr_data_by_tag(tr_ele, 'td')\n",
    "\n",
    "    return title_lst\n",
    "\n",
    "\n",
    "def get_data(tr_lst):\n",
    "    \"\"\"\n",
    "    获取数据\n",
    "    :param tr_lst:\n",
    "    :return:\n",
    "    \"\"\"\n",
    "    datas = []\n",
    "    for tr in tr_lst:\n",
    "        tr_data = get_tr_data_by_tag(tr, 'td')\n",
    "        datas.append(tr_data)\n",
    "\n",
    "    return datas\n",
    "\n",
    "\n",
    "def get_tr_data_by_tag(tr, tag):\n",
    "    \"\"\"\n",
    "    获取一行数据\n",
    "    :param tr:\n",
    "    :param tag:\n",
    "    :return:\n",
    "    \"\"\"\n",
    "    datas = []\n",
    "    nodes = tr.xpath(\".//{tag}\".format(tag=tag))\n",
    "    for node in nodes:\n",
    "        text = node.xpath('string(.)').strip()\n",
    "        datas.append(text)\n",
    "\n",
    "    return datas\n",
    "\n",
    "\n",
    "def get_html(url):\n",
    "    headers = {\n",
    "        'User-Agent': 'Mozilla/5.0 (Macintosh; Intel Mac OS X 10_14_2) AppleWebKit/537.36 (KHTML, like Gecko) Chrome/75.0.3770.142 Safari/537.36',\n",
    "    }\n",
    "    res = requests.get(url, headers=headers)\n",
    "    res.encoding = 'big5'\n",
    "    return res.text\n",
    "\n",
    "\n",
    "def run():\n",
    "    url = source\n",
    "    # url = \"https://www.phb123.com/qiye/35109.html\"\n",
    "    html = get_html(url)\n",
    "    table_lst = get_table_from_html(html)\n",
    "    #pprint.pprint(table_lst)\n",
    "    return table_lst\n",
    "\n"
   ]
  },
  {
   "cell_type": "code",
   "execution_count": 24,
   "id": "5a515e8d",
   "metadata": {},
   "outputs": [],
   "source": [
    "if __name__ == '__main__':\n",
    "    datalist=[]\n",
    "    datalist = run()"
   ]
  },
  {
   "cell_type": "code",
   "execution_count": 25,
   "id": "d76288a3",
   "metadata": {},
   "outputs": [],
   "source": [
    "dic = datalist[1]"
   ]
  },
  {
   "cell_type": "code",
   "execution_count": 26,
   "id": "3f2cce41",
   "metadata": {},
   "outputs": [
    {
     "data": {
      "text/plain": [
       "{'title': ['', '面積(坪)', '申報成交平均單價(元/坪)'],\n",
       " 'data': [[],\n",
       "  ['198,916', '170,919'],\n",
       "  ['129,915', '163,494'],\n",
       "  ['151,213', '166,553'],\n",
       "  ['183,151', '167,046'],\n",
       "  ['214,491', '164,866'],\n",
       "  ['207,175', '170,734'],\n",
       "  ['217,480', '175,512'],\n",
       "  ['221,124', '186,951'],\n",
       "  ['172,821', '178,561'],\n",
       "  ['187,045', '185,930'],\n",
       "  ['184,679', '187,276'],\n",
       "  ['241,128', '178,254'],\n",
       "  ['263,737', '197,059'],\n",
       "  ['137,977', '182,269'],\n",
       "  ['164,898', '171,082'],\n",
       "  ['181,813', '181,312'],\n",
       "  ['192,698', '179,734'],\n",
       "  ['162,995', '182,484'],\n",
       "  ['213,353', '208,024'],\n",
       "  ['143,972', '191,852'],\n",
       "  ['168,275', '208,566'],\n",
       "  ['167,888', '193,881'],\n",
       "  ['192,408', '181,947'],\n",
       "  ['245,943', '176,934'],\n",
       "  ['241,660', '146,541'],\n",
       "  ['154,897', '186,979'],\n",
       "  ['141,323', '202,070'],\n",
       "  ['144,885', '201,009'],\n",
       "  ['170,975', '179,305'],\n",
       "  ['133,717', '192,541'],\n",
       "  ['168,348', '206,580'],\n",
       "  ['146,798', '199,192'],\n",
       "  ['115,887', '202,737'],\n",
       "  ['122,987', '194,160'],\n",
       "  ['117,011', '198,714'],\n",
       "  ['319,854', '224,229'],\n",
       "  ['235,919', '222,727'],\n",
       "  ['82,174', '206,138'],\n",
       "  ['90,440', '205,382'],\n",
       "  ['116,881', '209,027'],\n",
       "  ['152,327', '213,588'],\n",
       "  ['130,346', '221,009'],\n",
       "  ['118,479', '210,097'],\n",
       "  ['107,775', '212,092'],\n",
       "  ['123,122', '191,103'],\n",
       "  ['138,547', '202,315'],\n",
       "  ['141,220', '192,426'],\n",
       "  ['157,333', '202,448'],\n",
       "  ['149,545', '197,581'],\n",
       "  ['102,411', '212,253'],\n",
       "  ['150,849', '211,864'],\n",
       "  ['120,355', '216,988'],\n",
       "  ['222,771', '219,878'],\n",
       "  ['149,118', '221,741']]}"
      ]
     },
     "execution_count": 26,
     "metadata": {},
     "output_type": "execute_result"
    }
   ],
   "source": [
    "dic"
   ]
  },
  {
   "cell_type": "code",
   "execution_count": 27,
   "id": "2e8370ee",
   "metadata": {},
   "outputs": [],
   "source": [
    "romankeyList = []\n",
    "romanvalueList = []\n",
    "for key, value in dic.items():\n",
    "    romankeyList.append(key)\n",
    "    romanvalueList.append(value)"
   ]
  },
  {
   "cell_type": "code",
   "execution_count": 28,
   "id": "90254f81",
   "metadata": {},
   "outputs": [
    {
     "data": {
      "text/plain": [
       "['面積(坪)', '申報成交平均單價(元/坪)']"
      ]
     },
     "execution_count": 28,
     "metadata": {},
     "output_type": "execute_result"
    }
   ],
   "source": [
    "col = romanvalueList[0]\n",
    "if '' in col:\n",
    "    col.remove('')\n",
    "col"
   ]
  },
  {
   "cell_type": "code",
   "execution_count": 29,
   "id": "b1b50d34",
   "metadata": {},
   "outputs": [],
   "source": [
    "row = romanvalueList[1]"
   ]
  },
  {
   "cell_type": "code",
   "execution_count": 30,
   "id": "fc792d87",
   "metadata": {},
   "outputs": [
    {
     "data": {
      "text/plain": [
       "list"
      ]
     },
     "execution_count": 30,
     "metadata": {},
     "output_type": "execute_result"
    }
   ],
   "source": [
    "type(row)"
   ]
  },
  {
   "cell_type": "code",
   "execution_count": 31,
   "id": "13d1fd95",
   "metadata": {},
   "outputs": [
    {
     "data": {
      "text/html": [
       "<div>\n",
       "<style scoped>\n",
       "    .dataframe tbody tr th:only-of-type {\n",
       "        vertical-align: middle;\n",
       "    }\n",
       "\n",
       "    .dataframe tbody tr th {\n",
       "        vertical-align: top;\n",
       "    }\n",
       "\n",
       "    .dataframe thead th {\n",
       "        text-align: right;\n",
       "    }\n",
       "</style>\n",
       "<table border=\"1\" class=\"dataframe\">\n",
       "  <thead>\n",
       "    <tr style=\"text-align: right;\">\n",
       "      <th></th>\n",
       "      <th>面積(坪)</th>\n",
       "      <th>申報成交平均單價(元/坪)</th>\n",
       "    </tr>\n",
       "  </thead>\n",
       "  <tbody>\n",
       "    <tr>\n",
       "      <th>0</th>\n",
       "      <td>None</td>\n",
       "      <td>None</td>\n",
       "    </tr>\n",
       "    <tr>\n",
       "      <th>1</th>\n",
       "      <td>198,916</td>\n",
       "      <td>170,919</td>\n",
       "    </tr>\n",
       "    <tr>\n",
       "      <th>2</th>\n",
       "      <td>129,915</td>\n",
       "      <td>163,494</td>\n",
       "    </tr>\n",
       "    <tr>\n",
       "      <th>3</th>\n",
       "      <td>151,213</td>\n",
       "      <td>166,553</td>\n",
       "    </tr>\n",
       "    <tr>\n",
       "      <th>4</th>\n",
       "      <td>183,151</td>\n",
       "      <td>167,046</td>\n",
       "    </tr>\n",
       "    <tr>\n",
       "      <th>5</th>\n",
       "      <td>214,491</td>\n",
       "      <td>164,866</td>\n",
       "    </tr>\n",
       "    <tr>\n",
       "      <th>6</th>\n",
       "      <td>207,175</td>\n",
       "      <td>170,734</td>\n",
       "    </tr>\n",
       "    <tr>\n",
       "      <th>7</th>\n",
       "      <td>217,480</td>\n",
       "      <td>175,512</td>\n",
       "    </tr>\n",
       "    <tr>\n",
       "      <th>8</th>\n",
       "      <td>221,124</td>\n",
       "      <td>186,951</td>\n",
       "    </tr>\n",
       "    <tr>\n",
       "      <th>9</th>\n",
       "      <td>172,821</td>\n",
       "      <td>178,561</td>\n",
       "    </tr>\n",
       "    <tr>\n",
       "      <th>10</th>\n",
       "      <td>187,045</td>\n",
       "      <td>185,930</td>\n",
       "    </tr>\n",
       "    <tr>\n",
       "      <th>11</th>\n",
       "      <td>184,679</td>\n",
       "      <td>187,276</td>\n",
       "    </tr>\n",
       "    <tr>\n",
       "      <th>12</th>\n",
       "      <td>241,128</td>\n",
       "      <td>178,254</td>\n",
       "    </tr>\n",
       "    <tr>\n",
       "      <th>13</th>\n",
       "      <td>263,737</td>\n",
       "      <td>197,059</td>\n",
       "    </tr>\n",
       "    <tr>\n",
       "      <th>14</th>\n",
       "      <td>137,977</td>\n",
       "      <td>182,269</td>\n",
       "    </tr>\n",
       "    <tr>\n",
       "      <th>15</th>\n",
       "      <td>164,898</td>\n",
       "      <td>171,082</td>\n",
       "    </tr>\n",
       "    <tr>\n",
       "      <th>16</th>\n",
       "      <td>181,813</td>\n",
       "      <td>181,312</td>\n",
       "    </tr>\n",
       "    <tr>\n",
       "      <th>17</th>\n",
       "      <td>192,698</td>\n",
       "      <td>179,734</td>\n",
       "    </tr>\n",
       "    <tr>\n",
       "      <th>18</th>\n",
       "      <td>162,995</td>\n",
       "      <td>182,484</td>\n",
       "    </tr>\n",
       "    <tr>\n",
       "      <th>19</th>\n",
       "      <td>213,353</td>\n",
       "      <td>208,024</td>\n",
       "    </tr>\n",
       "    <tr>\n",
       "      <th>20</th>\n",
       "      <td>143,972</td>\n",
       "      <td>191,852</td>\n",
       "    </tr>\n",
       "    <tr>\n",
       "      <th>21</th>\n",
       "      <td>168,275</td>\n",
       "      <td>208,566</td>\n",
       "    </tr>\n",
       "    <tr>\n",
       "      <th>22</th>\n",
       "      <td>167,888</td>\n",
       "      <td>193,881</td>\n",
       "    </tr>\n",
       "    <tr>\n",
       "      <th>23</th>\n",
       "      <td>192,408</td>\n",
       "      <td>181,947</td>\n",
       "    </tr>\n",
       "    <tr>\n",
       "      <th>24</th>\n",
       "      <td>245,943</td>\n",
       "      <td>176,934</td>\n",
       "    </tr>\n",
       "    <tr>\n",
       "      <th>25</th>\n",
       "      <td>241,660</td>\n",
       "      <td>146,541</td>\n",
       "    </tr>\n",
       "    <tr>\n",
       "      <th>26</th>\n",
       "      <td>154,897</td>\n",
       "      <td>186,979</td>\n",
       "    </tr>\n",
       "    <tr>\n",
       "      <th>27</th>\n",
       "      <td>141,323</td>\n",
       "      <td>202,070</td>\n",
       "    </tr>\n",
       "    <tr>\n",
       "      <th>28</th>\n",
       "      <td>144,885</td>\n",
       "      <td>201,009</td>\n",
       "    </tr>\n",
       "    <tr>\n",
       "      <th>29</th>\n",
       "      <td>170,975</td>\n",
       "      <td>179,305</td>\n",
       "    </tr>\n",
       "    <tr>\n",
       "      <th>30</th>\n",
       "      <td>133,717</td>\n",
       "      <td>192,541</td>\n",
       "    </tr>\n",
       "    <tr>\n",
       "      <th>31</th>\n",
       "      <td>168,348</td>\n",
       "      <td>206,580</td>\n",
       "    </tr>\n",
       "    <tr>\n",
       "      <th>32</th>\n",
       "      <td>146,798</td>\n",
       "      <td>199,192</td>\n",
       "    </tr>\n",
       "    <tr>\n",
       "      <th>33</th>\n",
       "      <td>115,887</td>\n",
       "      <td>202,737</td>\n",
       "    </tr>\n",
       "    <tr>\n",
       "      <th>34</th>\n",
       "      <td>122,987</td>\n",
       "      <td>194,160</td>\n",
       "    </tr>\n",
       "    <tr>\n",
       "      <th>35</th>\n",
       "      <td>117,011</td>\n",
       "      <td>198,714</td>\n",
       "    </tr>\n",
       "    <tr>\n",
       "      <th>36</th>\n",
       "      <td>319,854</td>\n",
       "      <td>224,229</td>\n",
       "    </tr>\n",
       "    <tr>\n",
       "      <th>37</th>\n",
       "      <td>235,919</td>\n",
       "      <td>222,727</td>\n",
       "    </tr>\n",
       "    <tr>\n",
       "      <th>38</th>\n",
       "      <td>82,174</td>\n",
       "      <td>206,138</td>\n",
       "    </tr>\n",
       "    <tr>\n",
       "      <th>39</th>\n",
       "      <td>90,440</td>\n",
       "      <td>205,382</td>\n",
       "    </tr>\n",
       "    <tr>\n",
       "      <th>40</th>\n",
       "      <td>116,881</td>\n",
       "      <td>209,027</td>\n",
       "    </tr>\n",
       "    <tr>\n",
       "      <th>41</th>\n",
       "      <td>152,327</td>\n",
       "      <td>213,588</td>\n",
       "    </tr>\n",
       "    <tr>\n",
       "      <th>42</th>\n",
       "      <td>130,346</td>\n",
       "      <td>221,009</td>\n",
       "    </tr>\n",
       "    <tr>\n",
       "      <th>43</th>\n",
       "      <td>118,479</td>\n",
       "      <td>210,097</td>\n",
       "    </tr>\n",
       "    <tr>\n",
       "      <th>44</th>\n",
       "      <td>107,775</td>\n",
       "      <td>212,092</td>\n",
       "    </tr>\n",
       "    <tr>\n",
       "      <th>45</th>\n",
       "      <td>123,122</td>\n",
       "      <td>191,103</td>\n",
       "    </tr>\n",
       "    <tr>\n",
       "      <th>46</th>\n",
       "      <td>138,547</td>\n",
       "      <td>202,315</td>\n",
       "    </tr>\n",
       "    <tr>\n",
       "      <th>47</th>\n",
       "      <td>141,220</td>\n",
       "      <td>192,426</td>\n",
       "    </tr>\n",
       "    <tr>\n",
       "      <th>48</th>\n",
       "      <td>157,333</td>\n",
       "      <td>202,448</td>\n",
       "    </tr>\n",
       "    <tr>\n",
       "      <th>49</th>\n",
       "      <td>149,545</td>\n",
       "      <td>197,581</td>\n",
       "    </tr>\n",
       "    <tr>\n",
       "      <th>50</th>\n",
       "      <td>102,411</td>\n",
       "      <td>212,253</td>\n",
       "    </tr>\n",
       "    <tr>\n",
       "      <th>51</th>\n",
       "      <td>150,849</td>\n",
       "      <td>211,864</td>\n",
       "    </tr>\n",
       "    <tr>\n",
       "      <th>52</th>\n",
       "      <td>120,355</td>\n",
       "      <td>216,988</td>\n",
       "    </tr>\n",
       "    <tr>\n",
       "      <th>53</th>\n",
       "      <td>222,771</td>\n",
       "      <td>219,878</td>\n",
       "    </tr>\n",
       "    <tr>\n",
       "      <th>54</th>\n",
       "      <td>149,118</td>\n",
       "      <td>221,741</td>\n",
       "    </tr>\n",
       "  </tbody>\n",
       "</table>\n",
       "</div>"
      ],
      "text/plain": [
       "      面積(坪) 申報成交平均單價(元/坪)\n",
       "0      None          None\n",
       "1   198,916       170,919\n",
       "2   129,915       163,494\n",
       "3   151,213       166,553\n",
       "4   183,151       167,046\n",
       "5   214,491       164,866\n",
       "6   207,175       170,734\n",
       "7   217,480       175,512\n",
       "8   221,124       186,951\n",
       "9   172,821       178,561\n",
       "10  187,045       185,930\n",
       "11  184,679       187,276\n",
       "12  241,128       178,254\n",
       "13  263,737       197,059\n",
       "14  137,977       182,269\n",
       "15  164,898       171,082\n",
       "16  181,813       181,312\n",
       "17  192,698       179,734\n",
       "18  162,995       182,484\n",
       "19  213,353       208,024\n",
       "20  143,972       191,852\n",
       "21  168,275       208,566\n",
       "22  167,888       193,881\n",
       "23  192,408       181,947\n",
       "24  245,943       176,934\n",
       "25  241,660       146,541\n",
       "26  154,897       186,979\n",
       "27  141,323       202,070\n",
       "28  144,885       201,009\n",
       "29  170,975       179,305\n",
       "30  133,717       192,541\n",
       "31  168,348       206,580\n",
       "32  146,798       199,192\n",
       "33  115,887       202,737\n",
       "34  122,987       194,160\n",
       "35  117,011       198,714\n",
       "36  319,854       224,229\n",
       "37  235,919       222,727\n",
       "38   82,174       206,138\n",
       "39   90,440       205,382\n",
       "40  116,881       209,027\n",
       "41  152,327       213,588\n",
       "42  130,346       221,009\n",
       "43  118,479       210,097\n",
       "44  107,775       212,092\n",
       "45  123,122       191,103\n",
       "46  138,547       202,315\n",
       "47  141,220       192,426\n",
       "48  157,333       202,448\n",
       "49  149,545       197,581\n",
       "50  102,411       212,253\n",
       "51  150,849       211,864\n",
       "52  120,355       216,988\n",
       "53  222,771       219,878\n",
       "54  149,118       221,741"
      ]
     },
     "execution_count": 31,
     "metadata": {},
     "output_type": "execute_result"
    }
   ],
   "source": [
    "#轉list to df\n",
    "df=pd.DataFrame(row,columns=col)\n",
    "df"
   ]
  },
  {
   "cell_type": "code",
   "execution_count": 32,
   "id": "fa1e4a3a",
   "metadata": {},
   "outputs": [],
   "source": [
    "df = df.dropna(how='all')"
   ]
  },
  {
   "cell_type": "code",
   "execution_count": 33,
   "id": "a7b1adc4",
   "metadata": {},
   "outputs": [],
   "source": [
    "index = ['102年 1月','102年 2月','102年 3月','102年 4月','102年 5月','102年 6月','102年 7月','102年 8月','102年 9月','102年 10月','102年 11月','102年 12月','103年 1月','103年 2月','103年 3月','103年 4月','103年 5月','103年 6月','103年 7月','103年 8月','103年 9月','103年 10月','103年 11月','103年 12月','104年 1月','104年 2月','104年 3月','104年 4月','104年 5月','104年 6月','104年 7月','104年 8月','104年 9月','104年 10月','104年 11月','104年 12月','105年 1月','105年 2月','105年 3月','105年 4月','105年 5月','105年 6月','105年 7月','105年 8月','105年 9月','105年 10月','105年 11月','105年 12月','106年 1月','106年 2月','106年 3月','106年 4月','106年 5月','106年 6月']"
   ]
  },
  {
   "cell_type": "code",
   "execution_count": 34,
   "id": "318bff72",
   "metadata": {},
   "outputs": [],
   "source": [
    "df.index = index"
   ]
  },
  {
   "cell_type": "code",
   "execution_count": 35,
   "id": "9989726e",
   "metadata": {},
   "outputs": [
    {
     "data": {
      "text/plain": [
       "array([['198,916', '170,919'],\n",
       "       ['129,915', '163,494'],\n",
       "       ['151,213', '166,553'],\n",
       "       ['183,151', '167,046'],\n",
       "       ['214,491', '164,866'],\n",
       "       ['207,175', '170,734'],\n",
       "       ['217,480', '175,512'],\n",
       "       ['221,124', '186,951'],\n",
       "       ['172,821', '178,561'],\n",
       "       ['187,045', '185,930'],\n",
       "       ['184,679', '187,276'],\n",
       "       ['241,128', '178,254'],\n",
       "       ['263,737', '197,059'],\n",
       "       ['137,977', '182,269'],\n",
       "       ['164,898', '171,082'],\n",
       "       ['181,813', '181,312'],\n",
       "       ['192,698', '179,734'],\n",
       "       ['162,995', '182,484'],\n",
       "       ['213,353', '208,024'],\n",
       "       ['143,972', '191,852'],\n",
       "       ['168,275', '208,566'],\n",
       "       ['167,888', '193,881'],\n",
       "       ['192,408', '181,947'],\n",
       "       ['245,943', '176,934'],\n",
       "       ['241,660', '146,541'],\n",
       "       ['154,897', '186,979'],\n",
       "       ['141,323', '202,070'],\n",
       "       ['144,885', '201,009'],\n",
       "       ['170,975', '179,305'],\n",
       "       ['133,717', '192,541'],\n",
       "       ['168,348', '206,580'],\n",
       "       ['146,798', '199,192'],\n",
       "       ['115,887', '202,737'],\n",
       "       ['122,987', '194,160'],\n",
       "       ['117,011', '198,714'],\n",
       "       ['319,854', '224,229'],\n",
       "       ['235,919', '222,727'],\n",
       "       ['82,174', '206,138'],\n",
       "       ['90,440', '205,382'],\n",
       "       ['116,881', '209,027'],\n",
       "       ['152,327', '213,588'],\n",
       "       ['130,346', '221,009'],\n",
       "       ['118,479', '210,097'],\n",
       "       ['107,775', '212,092'],\n",
       "       ['123,122', '191,103'],\n",
       "       ['138,547', '202,315'],\n",
       "       ['141,220', '192,426'],\n",
       "       ['157,333', '202,448'],\n",
       "       ['149,545', '197,581'],\n",
       "       ['102,411', '212,253'],\n",
       "       ['150,849', '211,864'],\n",
       "       ['120,355', '216,988'],\n",
       "       ['222,771', '219,878'],\n",
       "       ['149,118', '221,741']], dtype=object)"
      ]
     },
     "execution_count": 35,
     "metadata": {},
     "output_type": "execute_result"
    }
   ],
   "source": [
    "data_array = np.array(df.values)\n",
    "data_array"
   ]
  },
  {
   "cell_type": "code",
   "execution_count": 36,
   "id": "e9a03856",
   "metadata": {},
   "outputs": [
    {
     "data": {
      "text/plain": [
       "array(['102年 1月', '102年 2月', '102年 3月', '102年 4月', '102年 5月', '102年 6月',\n",
       "       '102年 7月', '102年 8月', '102年 9月', '102年 10月', '102年 11月',\n",
       "       '102年 12月', '103年 1月', '103年 2月', '103年 3月', '103年 4月', '103年 5月',\n",
       "       '103年 6月', '103年 7月', '103年 8月', '103年 9月', '103年 10月', '103年 11月',\n",
       "       '103年 12月', '104年 1月', '104年 2月', '104年 3月', '104年 4月', '104年 5月',\n",
       "       '104年 6月', '104年 7月', '104年 8月', '104年 9月', '104年 10月', '104年 11月',\n",
       "       '104年 12月', '105年 1月', '105年 2月', '105年 3月', '105年 4月', '105年 5月',\n",
       "       '105年 6月', '105年 7月', '105年 8月', '105年 9月', '105年 10月', '105年 11月',\n",
       "       '105年 12月', '106年 1月', '106年 2月', '106年 3月', '106年 4月', '106年 5月',\n",
       "       '106年 6月'], dtype='<U8')"
      ]
     },
     "execution_count": 36,
     "metadata": {},
     "output_type": "execute_result"
    }
   ],
   "source": [
    "index_array = np.array(index)\n",
    "index_array"
   ]
  },
  {
   "cell_type": "code",
   "execution_count": 37,
   "id": "5e3a61d7",
   "metadata": {},
   "outputs": [
    {
     "name": "stdout",
     "output_type": "stream",
     "text": [
      "<class 'pandas.core.frame.DataFrame'>\n",
      "Index: 54 entries, 102年 1月 to 106年 6月\n",
      "Data columns (total 2 columns):\n",
      " #   Column         Non-Null Count  Dtype \n",
      "---  ------         --------------  ----- \n",
      " 0   面積(坪)          54 non-null     object\n",
      " 1   申報成交平均單價(元/坪)  54 non-null     object\n",
      "dtypes: object(2)\n",
      "memory usage: 1.3+ KB\n"
     ]
    },
    {
     "data": {
      "text/plain": [
       "pandas.core.frame.DataFrame"
      ]
     },
     "execution_count": 37,
     "metadata": {},
     "output_type": "execute_result"
    }
   ],
   "source": [
    "df.info()\n",
    "df.head()\n",
    "type(df)"
   ]
  },
  {
   "cell_type": "code",
   "execution_count": 38,
   "id": "99fe5842",
   "metadata": {},
   "outputs": [],
   "source": [
    "df = df.reset_index(inplace=False)"
   ]
  },
  {
   "cell_type": "code",
   "execution_count": 39,
   "id": "dc1ac682",
   "metadata": {},
   "outputs": [
    {
     "data": {
      "text/plain": [
       "pandas.core.frame.DataFrame"
      ]
     },
     "execution_count": 39,
     "metadata": {},
     "output_type": "execute_result"
    }
   ],
   "source": [
    "type(df)"
   ]
  },
  {
   "cell_type": "code",
   "execution_count": 40,
   "id": "1afa58a6",
   "metadata": {},
   "outputs": [],
   "source": [
    "df = df.rename(columns={'面積(坪)':'area'})\n",
    "df = df.rename(columns={'申報成交平均單價(元/坪)':'costperarea'})\n",
    "df = df.rename(columns={'index':'datetime'})"
   ]
  },
  {
   "cell_type": "code",
   "execution_count": 41,
   "id": "f966c5c2",
   "metadata": {},
   "outputs": [
    {
     "name": "stdout",
     "output_type": "stream",
     "text": [
      "C:\\ProgramData\\Anaconda3\\lib\\site-packages\\matplotlib\\__init__.py\n"
     ]
    }
   ],
   "source": [
    "import matplotlib\n",
    "print(matplotlib.__file__)"
   ]
  },
  {
   "cell_type": "code",
   "execution_count": 42,
   "id": "7da2f06f",
   "metadata": {},
   "outputs": [],
   "source": [
    "plt.rcParams['font.sans-serif'] = ['Taipei Sans TC Beta']"
   ]
  },
  {
   "cell_type": "code",
   "execution_count": 86,
   "id": "77e5fed7",
   "metadata": {},
   "outputs": [
    {
     "data": {
      "text/plain": [
       "numpy.int32"
      ]
     },
     "execution_count": 86,
     "metadata": {},
     "output_type": "execute_result"
    }
   ],
   "source": [
    "#轉置string to int\n",
    "df.costperarea[0]\n",
    "df['area'] = df['area'].str.replace(',', '').astype(int)\n",
    "df['costperarea'] = df['costperarea'].str.replace(',', '').astype(int)\n",
    "type(df.costperarea[0])"
   ]
  },
  {
   "cell_type": "code",
   "execution_count": 96,
   "id": "71f9a504",
   "metadata": {},
   "outputs": [],
   "source": [
    "# Draw Stripplot\n",
    "#fig, ax = plt.subplots(figsize=(16,10), dpi= 800)    \n",
    "#sns.stripplot(df.area, df.costperarea, size=3)\n",
    "# Decorations\n",
    "#plt.title('Counts Plot - Size of circle is bigger as more points overlap', fontsize=22)\n",
    "#plt.show()"
   ]
  },
  {
   "cell_type": "code",
   "execution_count": 89,
   "id": "9e06c82e",
   "metadata": {},
   "outputs": [
    {
     "data": {
      "text/plain": [
       "<matplotlib.axes._subplots.AxesSubplot at 0x2aa54c0dac8>"
      ]
     },
     "execution_count": 89,
     "metadata": {},
     "output_type": "execute_result"
    },
    {
     "data": {
      "image/png": "[encoded data removed]",
      "text/plain": [
       "<Figure size 432x288 with 1 Axes>"
      ]
     },
     "metadata": {
      "needs_background": "light"
     },
     "output_type": "display_data"
    }
   ],
   "source": [
    "df.plot.scatter(x='costperarea',y='area',c='red')"
   ]
  },
  {
   "cell_type": "code",
   "execution_count": 99,
   "id": "0a265b51",
   "metadata": {},
   "outputs": [
    {
     "data": {
      "text/plain": [
       "\"\\nfig=plt.figure(figsize=(20,8))\\nplt.xticks(rotation = 90)  \\nax1 = fig.add_subplot(111)\\nax1.plot(df.area,color='green',label='面積(坪)')\\nax1.plot(df.costperarea,color='blue',label='申報成交平均單價(元/坪)')\\nplt.legend()\\n\""
      ]
     },
     "execution_count": 99,
     "metadata": {},
     "output_type": "execute_result"
    }
   ],
   "source": [
    "'''\n",
    "fig=plt.figure(figsize=(20,8))\n",
    "plt.xticks(rotation = 90)  \n",
    "ax1 = fig.add_subplot(111)\n",
    "ax1.plot(df.area,color='green',label='面積(坪)')\n",
    "ax1.plot(df.costperarea,color='blue',label='申報成交平均單價(元/坪)')\n",
    "plt.legend()\n",
    "'''"
   ]
  },
  {
   "cell_type": "code",
   "execution_count": 98,
   "id": "fda6dfe8",
   "metadata": {},
   "outputs": [],
   "source": [
    "#plt.scatter(df.area, df.costperarea, s=50, alpha=.5)"
   ]
  },
  {
   "cell_type": "code",
   "execution_count": 177,
   "id": "4667a6df",
   "metadata": {},
   "outputs": [],
   "source": [
    "#切分Test集\n",
    "train = df[:30]\n",
    "test = df[30:]\n",
    "#只要open high\n",
    "train_set_x = train['area']\n",
    "train_set_y = train['costperarea']\n",
    "test_set_x = test['area']\n",
    "test_set_y = test['costperarea']"
   ]
  },
  {
   "cell_type": "code",
   "execution_count": 178,
   "id": "03225795",
   "metadata": {},
   "outputs": [
    {
     "data": {
      "image/png": "[encoded data removed]",
      "text/plain": [
       "<Figure size 432x288 with 1 Axes>"
      ]
     },
     "metadata": {
      "needs_background": "light"
     },
     "output_type": "display_data"
    }
   ],
   "source": [
    "x_train_s= train_set_x.values.reshape(1,-1 )\n",
    "x_train_s\n",
    "y_train_s= train_set_y.values.reshape(1,-1 )\n",
    "y_train_s\n",
    "plt.scatter(x_train_s, y_train_s)\n",
    "plt.show()"
   ]
  },
  {
   "cell_type": "code",
   "execution_count": 179,
   "id": "84dff84d",
   "metadata": {},
   "outputs": [
    {
     "data": {
      "image/png": "[encoded data removed]",
      "text/plain": [
       "<Figure size 432x288 with 1 Axes>"
      ]
     },
     "metadata": {
      "needs_background": "light"
     },
     "output_type": "display_data"
    }
   ],
   "source": [
    "x_test_s= test_set_x.values.reshape(1,-1 )\n",
    "x_test_s\n",
    "y_test_s= test_set_y.values.reshape(1,-1 )\n",
    "y_test_s\n",
    "plt.scatter(x_test_s, y_test_s)\n",
    "plt.show()"
   ]
  },
  {
   "cell_type": "code",
   "execution_count": 180,
   "id": "1b61d5fc",
   "metadata": {},
   "outputs": [
    {
     "data": {
      "text/plain": [
       "(30, 3)"
      ]
     },
     "execution_count": 180,
     "metadata": {},
     "output_type": "execute_result"
    }
   ],
   "source": [
    "train.shape"
   ]
  },
  {
   "cell_type": "code",
   "execution_count": 181,
   "id": "6574d415",
   "metadata": {},
   "outputs": [],
   "source": [
    "x_train= train_set_x.values.reshape(-1, 1)\n",
    "y_train= train_set_y.values.reshape(-1, 1)\n",
    "x_test= test_set_x.values.reshape(-1, 1)\n",
    "y_test= test_set_y.values.reshape(-1, 1)"
   ]
  },
  {
   "cell_type": "code",
   "execution_count": 182,
   "id": "7d6a5ddd",
   "metadata": {},
   "outputs": [
    {
     "data": {
      "text/plain": [
       "array([[198916],\n",
       "       [129915],\n",
       "       [151213],\n",
       "       [183151],\n",
       "       [214491],\n",
       "       [207175],\n",
       "       [217480],\n",
       "       [221124],\n",
       "       [172821],\n",
       "       [187045],\n",
       "       [184679],\n",
       "       [241128],\n",
       "       [263737],\n",
       "       [137977],\n",
       "       [164898],\n",
       "       [181813],\n",
       "       [192698],\n",
       "       [162995],\n",
       "       [213353],\n",
       "       [143972],\n",
       "       [168275],\n",
       "       [167888],\n",
       "       [192408],\n",
       "       [245943],\n",
       "       [241660],\n",
       "       [154897],\n",
       "       [141323],\n",
       "       [144885],\n",
       "       [170975],\n",
       "       [133717]])"
      ]
     },
     "execution_count": 182,
     "metadata": {},
     "output_type": "execute_result"
    }
   ],
   "source": [
    "x_train"
   ]
  },
  {
   "cell_type": "code",
   "execution_count": 183,
   "id": "366c317e",
   "metadata": {},
   "outputs": [
    {
     "data": {
      "text/plain": [
       "LinearRegression()"
      ]
     },
     "execution_count": 183,
     "metadata": {},
     "output_type": "execute_result"
    }
   ],
   "source": [
    "model = linear_model.LinearRegression()\n",
    "model.fit(x_train,y_train)"
   ]
  },
  {
   "cell_type": "code",
   "execution_count": 184,
   "id": "d1a9535b",
   "metadata": {},
   "outputs": [],
   "source": [
    "predict = model.predict(x_train[:200,:])"
   ]
  },
  {
   "cell_type": "code",
   "execution_count": null,
   "id": "d7ba4e11",
   "metadata": {},
   "outputs": [],
   "source": []
  },
  {
   "cell_type": "code",
   "execution_count": 185,
   "id": "e1324b61",
   "metadata": {},
   "outputs": [],
   "source": [
    "y_pred = regr.predict(x_test[:200,:])"
   ]
  },
  {
   "cell_type": "code",
   "execution_count": 187,
   "id": "9bb979ac",
   "metadata": {},
   "outputs": [
    {
     "data": {
      "image/png": "[encoded data removed]",
      "text/plain": [
       "<Figure size 432x288 with 1 Axes>"
      ]
     },
     "metadata": {
      "needs_background": "light"
     },
     "output_type": "display_data"
    }
   ],
   "source": [
    "plt.plot(x_train,predict,c=\"red\")\n",
    "plt.scatter(x_train,y_train)\n",
    "plt.show()"
   ]
  },
  {
   "cell_type": "code",
   "execution_count": 188,
   "id": "793e40d9",
   "metadata": {},
   "outputs": [
    {
     "data": {
      "image/png": "[encoded data removed]",
      "text/plain": [
       "<Figure size 432x288 with 1 Axes>"
      ]
     },
     "metadata": {
      "needs_background": "light"
     },
     "output_type": "display_data"
    }
   ],
   "source": [
    "plt.plot(x_test,y_pred,c=\"red\")\n",
    "plt.scatter(x_test,y_test)\n",
    "plt.show()"
   ]
  },
  {
   "cell_type": "code",
   "execution_count": null,
   "id": "ccf5071b",
   "metadata": {},
   "outputs": [],
   "source": []
  },
  {
   "cell_type": "code",
   "execution_count": null,
   "id": "6eacab57",
   "metadata": {},
   "outputs": [],
   "source": []
  },
  {
   "cell_type": "code",
   "execution_count": null,
   "id": "fc7d614e",
   "metadata": {},
   "outputs": [],
   "source": []
  },
  {
   "cell_type": "code",
   "execution_count": null,
   "id": "02c030f6",
   "metadata": {},
   "outputs": [],
   "source": []
  },
  {
   "cell_type": "code",
   "execution_count": null,
   "id": "417cd3b4",
   "metadata": {},
   "outputs": [],
   "source": []
  }
 ],
 "metadata": {
  "kernelspec": {
   "display_name": "Python 3",
   "language": "python",
   "name": "python3"
  },
  "language_info": {
   "codemirror_mode": {
    "name": "ipython",
    "version": 3
   },
   "file_extension": ".py",
   "mimetype": "text/x-python",
   "name": "python",
   "nbconvert_exporter": "python",
   "pygments_lexer": "ipython3",
   "version": "3.8.8"
  }
 },
 "nbformat": 4,
 "nbformat_minor": 5
}
