{
 "cells": [
  {
   "cell_type": "code",
   "execution_count": 42,
   "id": "c2dfedf3-12ec-465c-a96a-580fd1cd1533",
   "metadata": {},
   "outputs": [],
   "source": [
    "from pytube import Playlist\n",
    "import numpy as np"
   ]
  },
  {
   "cell_type": "code",
   "execution_count": 43,
   "id": "793d12c3-4a85-4710-9207-193ec6c82490",
   "metadata": {},
   "outputs": [
    {
     "name": "stdout",
     "output_type": "stream",
     "text": [
      "Number of videos in playlist: 9\n"
     ]
    }
   ],
   "source": [
    "from pytube import Playlist\n",
    "playlist = Playlist('https://www.youtube.com/playlist?list=PLRfY4Rc-GWzhdCvSPR7aTV0PJjjiSAGMs')\n",
    "print('Number of videos in playlist: %s' % len(playlist.video_urls))"
   ]
  },
  {
   "cell_type": "code",
   "execution_count": 44,
   "id": "602bbd24-1613-4195-aab4-8a9d37a52ff1",
   "metadata": {},
   "outputs": [
    {
     "data": {
      "text/plain": [
       "array(['https://www.youtube.com/watch?v=8ejF8Qv6VZk',\n",
       "       'https://www.youtube.com/watch?v=DrFZ6fXyia0',\n",
       "       'https://www.youtube.com/watch?v=Coq-OlEdZQ8',\n",
       "       'https://www.youtube.com/watch?v=EZJs9YfVDus',\n",
       "       'https://www.youtube.com/watch?v=NNM2kEBGiRs',\n",
       "       'https://www.youtube.com/watch?v=cMTpV13xk-A',\n",
       "       'https://www.youtube.com/watch?v=U06Lf1VtAZ8',\n",
       "       'https://www.youtube.com/watch?v=VZOYXCvsFL0',\n",
       "       'https://www.youtube.com/watch?v=cIASYKmcgLQ'], dtype='<U43')"
      ]
     },
     "execution_count": 44,
     "metadata": {},
     "output_type": "execute_result"
    }
   ],
   "source": [
    "#get url\n",
    "url = []\n",
    "url = list(playlist.video_urls)\n",
    "url=np.array(url) \n",
    "type(url)\n",
    "url"
   ]
  },
  {
   "cell_type": "code",
   "execution_count": 45,
   "id": "78ebd40d-86dc-4894-b542-8f5a643e87d9",
   "metadata": {},
   "outputs": [
    {
     "name": "stdout",
     "output_type": "stream",
     "text": [
      "Andy Grammer - Honey, I'm Good (with lyrics)\n",
      "Shake it off (Lyrics) - Taylor Swift\n",
      "Party Rock Anthem - LMFAO Lyrics\n",
      "Austin Mahone ft. Pitbull - Mmm Yeah [LYRICS]\n",
      "Maroon 5 - Moves Like Jagger [Lyrics]\n",
      "Pitbull feat. Christina Aguilera Feel This Moment LYRICS (New 2013)\n",
      "Maroon 5 - Maps (Lyrics (HD)\n",
      "Imagine Dragons - Natural [Lyrics]\n",
      "Kid Kasino & Dutty Moonshine - Everybody\n"
     ]
    }
   ],
   "source": [
    "#get url name\n",
    "for video in playlist.videos:\n",
    "    print(video.title)"
   ]
  },
  {
   "cell_type": "code",
   "execution_count": 46,
   "id": "47b77acc-8914-43e1-ae7d-0d8a2c9e4faf",
   "metadata": {},
   "outputs": [],
   "source": [
    "#download mp3 name\n",
    "# Loop through all videos in the playlist and download them\n",
    "for video in playlist.videos:\n",
    "    video.streams.first().download()"
   ]
  },
  {
   "cell_type": "code",
   "execution_count": null,
   "id": "e2ec4728-f415-4110-821c-52b194ebf48d",
   "metadata": {},
   "outputs": [],
   "source": []
  },
  {
   "cell_type": "code",
   "execution_count": null,
   "id": "1599d325-be34-4e21-a07b-10bef0e55704",
   "metadata": {},
   "outputs": [],
   "source": []
  }
 ],
 "metadata": {
  "kernelspec": {
   "display_name": "Python 3",
   "language": "python",
   "name": "python3"
  },
  "language_info": {
   "codemirror_mode": {
    "name": "ipython",
    "version": 3
   },
   "file_extension": ".py",
   "mimetype": "text/x-python",
   "name": "python",
   "nbconvert_exporter": "python",
   "pygments_lexer": "ipython3",
   "version": "3.8.8"
  }
 },
 "nbformat": 4,
 "nbformat_minor": 5
}
