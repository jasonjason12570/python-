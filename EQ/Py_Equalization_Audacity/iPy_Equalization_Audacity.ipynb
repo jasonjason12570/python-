{
 "cells": [
  {
   "cell_type": "code",
   "execution_count": 133,
   "id": "e8a8cd9c-2a09-4310-a1c6-732be9d8cee5",
   "metadata": {},
   "outputs": [],
   "source": [
    "import pandas as pd\n",
    "import xml.etree.ElementTree as gfg \n",
    "from lxml import etree"
   ]
  },
  {
   "cell_type": "code",
   "execution_count": 134,
   "id": "96f345aa-6212-45fa-98e1-779808c486d4",
   "metadata": {},
   "outputs": [],
   "source": [
    "def readcsv(path):\n",
    "    df = pd.read_csv(path)\n",
    "    return df"
   ]
  },
  {
   "cell_type": "code",
   "execution_count": 135,
   "id": "9dc1585d-8daf-4c83-9622-1c608a003f3c",
   "metadata": {},
   "outputs": [],
   "source": [
    "# XML maker and prettier\n",
    "def prettyPrintXml(xmlFilePathToPrettyPrint):\n",
    "    assert xmlFilePathToPrettyPrint is not None\n",
    "    parser = etree.XMLParser(resolve_entities=False, strip_cdata=False)\n",
    "    document = etree.parse(xmlFilePathToPrettyPrint, parser)\n",
    "    document.write(xmlFilePathToPrettyPrint, pretty_print=True, encoding='utf-8')\n",
    "def GenerateXML(fileName,xml_f,xml_g) :\n",
    "    root = gfg.Element(\"equalizationeffect\")\n",
    "    m1 = gfg.Element(\"curve\", name=\"xba-h3(16k)20210914\")\n",
    "    root.append (m1)\n",
    "    #b1 = gfg.SubElement(m1, \"curve\", name=\"xba-h3(16k)20210914\")\n",
    "    for i in range(len(xml_f)):\n",
    "        gfg.SubElement(m1, \"point\", f=xml_f[i],d=xml_g[i])\n",
    "    tree = gfg.ElementTree(root)\n",
    "    with open (fileName, \"wb\") as files :\n",
    "        tree.write(files)\n",
    "    print(\"Have save xml into \"+fileName)"
   ]
  },
  {
   "cell_type": "code",
   "execution_count": 136,
   "id": "8a5bdaed-defa-4190-8583-5ff7690182ee",
   "metadata": {},
   "outputs": [],
   "source": [
    "# TXT maker\n",
    "def GemerateTXT(dicf,dicv,path):\n",
    "    freqLine = \"\"\n",
    "    valueLine = \"\"\n",
    "    for i in range(len(dicf)):\n",
    "        for j in range(len(dicf[i])):\n",
    "            freqLine=freqLine+dicf[i][j]\n",
    "            valueLine=valueLine+dicv[i][j]\n",
    "    audacityLine = '''FilterCurve: {freqLine}FilterLength=\"8191\" InterpolateLin=\"0\" InterpolationMethod=\"B-spline\" {valueLine}'''.format(freqLine=freqLine,valueLine=valueLine)\n",
    "    #print(audacityLine)\n",
    "    path = path+\"_Audacity_config.txt\"\n",
    "    f = open(path, 'w')\n",
    "    f.writelines(audacityLine)\n",
    "    f.close()\n",
    "    print(\"Have save txt into \"+path)"
   ]
  },
  {
   "cell_type": "code",
   "execution_count": 137,
   "id": "d4b69390-a24d-495f-8b84-2619a9c7da0a",
   "metadata": {},
   "outputs": [],
   "source": [
    "def batch_processing(Raw_csv,output_name=\"./output\",xml=False):\n",
    "    df = readcsv(Raw_csv)\n",
    "    tmpF = \"\"\n",
    "    tmpV = \"\"\n",
    "    classification =[1,2,3,4,5,6,7,8,9,0]\n",
    "    dicf={1:[],2:[],3:[],4:[],5:[],6:[],7:[],8:[],9:[],0:[]}\n",
    "    dicv={1:[],2:[],3:[],4:[],5:[],6:[],7:[],8:[],9:[],0:[]}\n",
    "    num = 0 \n",
    "    xml_f=[]\n",
    "    xml_g=[]\n",
    "\n",
    "    # 將依照equalization之欄位值去存取eq調整數值\n",
    "    for i in range(df.shape[0]):\n",
    "        tmpF = 'f'+str(num)+'=\"'+str(df['frequency'][i])+'\" '\n",
    "        tmpV = 'v'+str(num)+'=\"'+str(df['raw'][i])+'\" '\n",
    "        for j in range (len(classification)):\n",
    "            if(str(num)[0]==str(classification[j])):\n",
    "                dicf[classification[j]].append(tmpF)\n",
    "                dicv[classification[j]].append(tmpV)\n",
    "                # XML(舊版本)\n",
    "                xml_f.append(str(df['frequency'][i]))\n",
    "                xml_g.append(str(df['raw'][i]))\n",
    "                num+=1\n",
    "                break\n",
    "    GemerateTXT(dicf,dicv,output_name)\n",
    "    \n",
    "    if(xml):\n",
    "        GenerateXML(output_name+\"_Audacity_config.xml\",xml_f,xml_g)\n",
    "        prettyPrintXml(output_name+\"_Audacity_config.xml\")"
   ]
  },
  {
   "cell_type": "code",
   "execution_count": 141,
   "id": "c9e154df-30aa-444f-8bea-68d0fce94bf6",
   "metadata": {},
   "outputs": [
    {
     "name": "stdout",
     "output_type": "stream",
     "text": [
      "Have save txt into ./MI_MH750_Audacity_config.txt\n",
      "Have save xml into ./MI_MH750_Audacity_config.xml\n"
     ]
    }
   ],
   "source": [
    "inputcsv=\"../Result/MI_MH750.csv\"\n",
    "output=\"./MI_MH750\"\n",
    "xml=True\n",
    "batch_processing(inputcsv,output,xml)"
   ]
  },
  {
   "cell_type": "code",
   "execution_count": 127,
   "id": "c4400acc-4304-45bd-b959-e6a90c1e30e0",
   "metadata": {},
   "outputs": [],
   "source": []
  },
  {
   "cell_type": "code",
   "execution_count": null,
   "id": "8b071893-61e2-47d8-a613-694e8c6183aa",
   "metadata": {},
   "outputs": [],
   "source": []
  },
  {
   "cell_type": "code",
   "execution_count": null,
   "id": "973cd879-13fd-4f7a-a266-a08a41ff3ef6",
   "metadata": {},
   "outputs": [],
   "source": []
  }
 ],
 "metadata": {
  "kernelspec": {
   "display_name": "Python 3",
   "language": "python",
   "name": "python3"
  },
  "language_info": {
   "codemirror_mode": {
    "name": "ipython",
    "version": 3
   },
   "file_extension": ".py",
   "mimetype": "text/x-python",
   "name": "python",
   "nbconvert_exporter": "python",
   "pygments_lexer": "ipython3",
   "version": "3.8.8"
  }
 },
 "nbformat": 4,
 "nbformat_minor": 5
}
