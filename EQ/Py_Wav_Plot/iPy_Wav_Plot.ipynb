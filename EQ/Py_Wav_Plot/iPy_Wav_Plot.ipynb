{
 "cells": [
  {
   "cell_type": "code",
   "execution_count": 40,
   "id": "1fd06e5d-9c3b-4aec-8c5a-4bf3515e5420",
   "metadata": {},
   "outputs": [],
   "source": [
    "import wave\n",
    "import numpy as np\n",
    "from scipy.io import wavfile\n",
    "from scipy import signal\n",
    "import scipy.io\n",
    "import matplotlib.pyplot as plt\n",
    "import numpy as np\n",
    "from scipy.fftpack import fft"
   ]
  },
  {
   "cell_type": "code",
   "execution_count": 87,
   "id": "d1d22561-fc03-4b88-9198-0e61a3330d3d",
   "metadata": {},
   "outputs": [],
   "source": [
    "# 讀取音檔，可讀取 16bits 以上\n",
    "def _wav2array(nchannels, sampwidth, data):\n",
    "    \"\"\"data must be the string containing the bytes from the wav file.\"\"\"\n",
    "    num_samples, remainder = divmod(len(data), sampwidth * nchannels)\n",
    "    if remainder > 0:\n",
    "        raise ValueError('The length of data is not a multiple of '\n",
    "                         'sampwidth * num_channels.')\n",
    "    if sampwidth > 4:\n",
    "        raise ValueError(\"sampwidth must not be greater than 4.\")\n",
    "\n",
    "    if sampwidth == 3:\n",
    "        a = np.empty((num_samples, nchannels, 4), dtype=np.uint8)\n",
    "        raw_bytes = np.fromstring(data, dtype=np.uint8)\n",
    "        a[:, :, :sampwidth] = raw_bytes.reshape(-1, nchannels, sampwidth)\n",
    "        a[:, :, sampwidth:] = (a[:, :, sampwidth - 1:sampwidth] >> 7) * 255\n",
    "        result = a.view('<i4').reshape(a.shape[:-1])\n",
    "    else:\n",
    "        # 8 bit samples are stored as unsigned ints; others as signed ints.\n",
    "        dt_char = 'u' if sampwidth == 1 else 'i'\n",
    "        a = np.fromstring(data, dtype='<%s%d' % (dt_char, sampwidth))\n",
    "        result = a.reshape(-1, nchannels)\n",
    "    return result\n",
    "\n",
    "def readwav(file):\n",
    "    \"\"\"\n",
    "    Read a wav file.\n",
    "    Returns the frame rate, sample width (in bytes) and a numpy array\n",
    "    containing the data.\n",
    "    This function does not read compressed wav files.\n",
    "    \"\"\"\n",
    "    wav = wave.open(file)\n",
    "    rate = wav.getframerate()\n",
    "    nchannels = wav.getnchannels()\n",
    "    sampwidth = wav.getsampwidth()\n",
    "    nframes = wav.getnframes()\n",
    "    data = wav.readframes(nframes)\n",
    "    wav.close()\n",
    "    array = _wav2array(nchannels, sampwidth, data)\n",
    "    return rate, sampwidth, array"
   ]
  },
  {
   "cell_type": "code",
   "execution_count": 88,
   "id": "d6033709-8896-48b2-88b3-978666e0f25c",
   "metadata": {},
   "outputs": [],
   "source": [
    "import numpy\n",
    "def frget(samplingFreq,mySound):\n",
    "    #Check if wave file is 16bit or 32 bit. 24bit is not supported\n",
    "    #檢查波形文件是16位還是32位。 不支持 24 位\n",
    "    mySoundDataType = mySound.dtype\n",
    "\n",
    "    #We can convert our sound array to floating point values ranging from -1 to 1 as follows\n",
    "    #我們可以將我們的聲音數組轉換為範圍從 -1 到 1 的浮點值，如下所示\n",
    "    mySound = mySound / (2.**15)\n",
    "\n",
    "    #Check sample points and sound channel for duel channel(5060, 2) or  (5060, ) for mono channel\n",
    "    #檢查雙聲道(5060, 2)或(5060, )單聲道的採樣點和聲道\n",
    "    mySoundShape = mySound.shape\n",
    "    samplePoints = float(mySound.shape[0])\n",
    "\n",
    "    #Get duration of sound file\n",
    "    #獲取聲音文件的時長\n",
    "    signalDuration =  mySound.shape[0] / samplingFreq\n",
    "\n",
    "    #If two channels, then select only one channel\n",
    "    #如果有兩個通道，則只選擇一個通道\n",
    "    mySoundOneChannel = mySound[:,0]\n",
    "\n",
    "    #Plotting the tone\n",
    "    #繪製基調\n",
    "    # We can represent sound by plotting the pressure values against time axis.\n",
    "    #Create an array of sample point in one dimension\n",
    "    # 我們可以通過根據時間軸繪製壓力值來表示聲音。\n",
    "    #創建一維樣本點數組\n",
    "    timeArray = numpy.arange(0, samplePoints, 1)\n",
    "\n",
    "    #\n",
    "    timeArray = timeArray / samplingFreq\n",
    "\n",
    "    #Scale to milliSeconds\n",
    "    #Scale到毫秒\n",
    "    timeArray = timeArray * 1000\n",
    "\n",
    "    #Plot the tone\n",
    "    #繪製時域\n",
    "    ########################################################################\n",
    "    #plt.plot(timeArray, mySoundOneChannel, color='g')\n",
    "    #plt.xlabel('Time (ms)')\n",
    "    #plt.ylabel('Amplitude')\n",
    "    #plt.show()\n",
    "    ########################################################################\n",
    "\n",
    "\n",
    "    #Plot frequency content\n",
    "    #We can get frquency from amplitude and time using FFT , Fast Fourier Transform algorithm\n",
    "    #繪製頻率內容\n",
    "    #我們可以使用FFT，快速傅立葉變換算法從幅度和時間中獲得頻率\n",
    "\n",
    "    #Get length of mySound object array\n",
    "    #獲取mySound對像數組的長度\n",
    "    mySoundLength = len(mySound)\n",
    "\n",
    "    #Take the Fourier transformation on given sample point \n",
    "    #對給定的樣本點進行傅立葉變換\n",
    "    #fftArray = fft(mySound)\n",
    "    fftArray = fft(mySoundOneChannel)\n",
    "    \n",
    "    numUniquePoints = int(numpy.ceil((mySoundLength + 1) / 2.0))\n",
    "    fftArray = fftArray[0:numUniquePoints]\n",
    "    \n",
    "    #FFT contains both magnitude and phase and given in complex numbers in real + imaginary parts (a + ib) format.\n",
    "    #FFT 包含幅度和相位，並以實部 + 虛部 (a + ib) 格式以復數形式給出。\n",
    "    \n",
    "    #By taking absolute value , we get only real part\n",
    "    #取絕對值，我們只得到實部\n",
    "\n",
    "    fftArray = abs(fftArray)\n",
    "\n",
    "    #Scale the fft array by length of sample points so that magnitude does not depend on\n",
    "    #the length of the signal or on its sampling frequency\n",
    "    #按樣本點的長度縮放fft數組，使幅度不依賴於信號的長度或其採樣頻率\n",
    "    \n",
    "    fftArray = fftArray / float(mySoundLength)\n",
    "\n",
    "    #FFT has both positive and negative information. Square to get positive only\n",
    "    #FFT既有正面信息也有負面信息。 方形只獲得正面\n",
    "    fftArray = fftArray **2\n",
    "\n",
    "    #Multiply by two (research why?)\n",
    "    #Odd NFFT excludes Nyquist point\n",
    "    if mySoundLength % 2 > 0: #we've got odd number of points in fft#我們在fft中有奇數個點\n",
    "        fftArray[1:len(fftArray)] = fftArray[1:len(fftArray)] * 2\n",
    "\n",
    "    else: #We've got even number of points in fft#我們在fft中有偶數個點\n",
    "        fftArray[1:len(fftArray) -1] = fftArray[1:len(fftArray) -1] * 2  \n",
    "\n",
    "    freqArray = numpy.arange(0, numUniquePoints, 1.0) * (samplingFreq / mySoundLength);\n",
    "    return freqArray,fftArray"
   ]
  },
  {
   "cell_type": "code",
   "execution_count": null,
   "id": "e68fc21f-5668-477e-a6ca-6366c57d8836",
   "metadata": {},
   "outputs": [],
   "source": []
  },
  {
   "cell_type": "code",
   "execution_count": 142,
   "id": "3a6e5b55-f2dd-4609-9135-acbdc0ae7b10",
   "metadata": {},
   "outputs": [],
   "source": [
    "def TD_single(samplerate,data,xfig,yfig,output_name):\n",
    "    print(f\"number of samplerate = {samplerate}\")\n",
    "    print(f\"number of channels = {data.shape[1]}\")\n",
    "    length = data.shape[0] / samplerate\n",
    "    print(f\"length = {length}s\")\n",
    "\n",
    "    time = np.linspace(0., length, data.shape[0])\n",
    "    fig = plt.figure(figsize=(xfig, yfig))\n",
    "\n",
    "    plt.plot(time, data[:, 0], label=\"Raw\", color='gray')\n",
    "\n",
    "    plt.xticks(range(int(length)))  # 設定x刻度\n",
    "\n",
    "\n",
    "    plt.legend()\n",
    "    plt.xlabel(\"Time [s]\")\n",
    "    plt.ylabel(\"Amplitude\")\n",
    "    #plt.show()\n",
    "    \n",
    "    if output_name is not None:\n",
    "        #file_path = os.path.abspath(file_path)\n",
    "        plt.savefig(output_name+\"_Wav_TD_single.png\",dpi=600)\n",
    "        print(\"Have save fig into \"+output_name+\"_Wav_TD_single.png\")"
   ]
  },
  {
   "cell_type": "code",
   "execution_count": 143,
   "id": "8ad8c883-e478-45a2-8096-9e38fe53c78c",
   "metadata": {},
   "outputs": [],
   "source": [
    "def TD_twice(samplerate,data,samplerate2,data2,xfig,yfig,output_name):\n",
    "    print(f\"number of samplerate = {samplerate}\")\n",
    "    print(f\"number of channels = {data.shape[1]}\")\n",
    "    length = data.shape[0] / samplerate\n",
    "    print(f\"length = {length}s\")\n",
    "    time = np.linspace(0., length, data.shape[0])\n",
    "\n",
    "    \n",
    "    print(f\"number of samplerate = {samplerate2}\")\n",
    "    print(f\"number of channels = {data2.shape[1]}\")\n",
    "    length2 = data2.shape[0] / samplerate2\n",
    "    print(f\"length = {length2}s\")\n",
    "    time2 = np.linspace(0., length2, data2.shape[0])\n",
    "\n",
    "    fig = plt.figure(figsize=(xfig, yfig))\n",
    "    plt.plot(time, data[:, 0], label=\"Raw\", color='gray')\n",
    "    plt.plot(time2, data2[:, 0], label=\"Target\", color='brown')\n",
    "    #plt.plot(time, data[:, 1], label=\"Right channel\")\n",
    "    plt.xticks(range(int(length)))  # 設定x刻度\n",
    "\n",
    "\n",
    "    plt.legend()\n",
    "    plt.xlabel(\"Time [s]\")\n",
    "    plt.ylabel(\"Amplitude\")\n",
    "    #plt.show()\n",
    "    if output_name is not None:\n",
    "        #file_path = os.path.abspath(file_path)\n",
    "        plt.savefig(output_name+\"_Wav_TD_twice.png\",dpi=600)\n",
    "        print(\"Have save fig into \"+output_name+\"_Wav_TD_twice.png\")"
   ]
  },
  {
   "cell_type": "code",
   "execution_count": 144,
   "id": "ba85e707-37d8-4f82-8c4f-a51432943139",
   "metadata": {},
   "outputs": [],
   "source": [
    "def FD_single(freqArray,fftArray,xfig,yfig,output_name):\n",
    "    #Plot the frequency\n",
    "    fig = plt.figure(figsize=(xfig, yfig))\n",
    "    plt.plot(freqArray/1000, 10 * numpy.log10 (fftArray), color='gray')\n",
    "    plt.xlabel('Frequency (Khz)')\n",
    "    plt.ylabel('Power (dB)')\n",
    "    \n",
    "    #plt.show()\n",
    "\n",
    "    if output_name is not None:\n",
    "        #file_path = os.path.abspath(file_path)\n",
    "        plt.savefig(output_name+\"_Wav_FD_single.png\",dpi=600)\n",
    "        print(\"Have save fig into \"+output_name+\"_Wav_FD_single.png\")"
   ]
  },
  {
   "cell_type": "code",
   "execution_count": 145,
   "id": "421a8126-9574-4a23-9b12-325cb13a51ab",
   "metadata": {},
   "outputs": [],
   "source": [
    "def FD_twice(freqArray,fftArray,freqArray2,fftArray2,xfig,yfig,output_name):\n",
    "    #Plot the frequency\n",
    "    fig = plt.figure(figsize=(xfig, yfig))\n",
    "    plt.plot(freqArray/1000, 10 * numpy.log10 (fftArray), color='gray', label=\"Raw\")\n",
    "    plt.plot(freqArray2/1000, 10 * numpy.log10 (fftArray2), color='brown', label=\"Target\")\n",
    "    \n",
    "    plt.legend()\n",
    "    plt.xlabel('Frequency (Khz)')\n",
    "    plt.ylabel('Power (dB)')\n",
    "    #plt.show()\n",
    "\n",
    "    #Get List of element in frequency array\n",
    "    #print freqArray.dtype.type\n",
    "    #freqArrayLength = len(freqArray)\n",
    "    #print (\"freqArrayLength =\", freqArrayLength)\n",
    "    #numpy.savetxt(\"freqData.txt\", freqArray, fmt='%6.2f')\n",
    "\n",
    "    #Print FFtarray information\n",
    "    #print (\"fftArray length =\", len(fftArray))\n",
    "    #numpy.savetxt(\"fftData.txt\", fftArray)\n",
    "    if output_name is not None:\n",
    "        #file_path = os.path.abspath(file_path)\n",
    "        plt.savefig(output_name+\"_Wav_FD_twice.png\",dpi=600)\n",
    "        print(\"Have save fig into \"+output_name+\"_Wav_FD_twice.png\")"
   ]
  },
  {
   "cell_type": "code",
   "execution_count": 146,
   "id": "b3974fe9-4dee-49fa-9ebe-7c423c504b2f",
   "metadata": {},
   "outputs": [],
   "source": [
    "def batch_processing(Raw_wav=None,Target_wav=None, output_name=\"./outputs\",TD=True,FD=True,xfig=6,yfig=4):\n",
    "    if(Target_wav):\n",
    "        print(\"------Compare mode-----\")\n",
    "        samplerate_R, samplewidth_R, data_R  = readwav(Raw_wav)\n",
    "        samplerate_T, samplewidth_T, data_T  = readwav(Target_wav)\n",
    "\n",
    "        if(TD):\n",
    "            TD_twice(samplerate_R,data_R,samplerate_T,data_T,xfig,yfig,output_name)\n",
    "        if(FD):\n",
    "            freqArray_R,fftArray_R = frget(samplerate_R,data_R)\n",
    "            freqArray_T,fftArray_T = frget(samplerate_T,data_T)\n",
    "            FD_twice(freqArray_R,fftArray_R,freqArray_T,fftArray_T,xfig,yfig,output_name)\n",
    "            \n",
    "        print(\"------Compare mode-----\")\n",
    "    else:\n",
    "        print(\"------Single mode------\")\n",
    "        samplerate_R, samplewidth_R, data_R  = readwav(Raw_wav)\n",
    "        if(TD):\n",
    "            TD_single(samplerate_R,data_R,xfig,yfig,output_name)\n",
    "        if(FD):\n",
    "            freqArray_R,fftArray_R = frget(samplerate_R,data_R)\n",
    "            FD_single(freqArray_R,fftArray_R,xfig,yfig,output_name)\n",
    "            \n",
    "        print(\"------Single mode------\")\n"
   ]
  },
  {
   "cell_type": "code",
   "execution_count": 147,
   "id": "878c4fa1-2e57-4344-b730-50fdf600852b",
   "metadata": {},
   "outputs": [],
   "source": [
    "Raw = \"../Test/oBRD.wav\"\n",
    "Target = \"../Test/re_audio.wav\""
   ]
  },
  {
   "cell_type": "code",
   "execution_count": 149,
   "id": "eae310fa-048a-4856-b586-dee033f0e7f1",
   "metadata": {},
   "outputs": [
    {
     "name": "stdout",
     "output_type": "stream",
     "text": [
      "------Compare mode-----\n",
      "number of samplerate = 44100\n",
      "number of channels = 1\n",
      "length = 18.62047619047619s\n",
      "number of samplerate = 44100\n",
      "number of channels = 1\n",
      "length = 18.62047619047619s\n"
     ]
    },
    {
     "name": "stderr",
     "output_type": "stream",
     "text": [
      "<ipython-input-87-fc2ffe4809b5>:13: DeprecationWarning: The binary mode of fromstring is deprecated, as it behaves surprisingly on unicode inputs. Use frombuffer instead\n",
      "  raw_bytes = np.fromstring(data, dtype=np.uint8)\n"
     ]
    },
    {
     "name": "stdout",
     "output_type": "stream",
     "text": [
      "Have save fig into ./outputs_Wav_TD_twice.png\n",
      "Have save fig into ./outputs_Wav_FD_twice.png\n",
      "------Compare mode-----\n"
     ]
    },
    {
     "data": {
      "image/png": "[encoded data removed]",
      "text/plain": [
       "<Figure size 432x288 with 1 Axes>"
      ]
     },
     "metadata": {
      "needs_background": "light"
     },
     "output_type": "display_data"
    },
    {
     "data": {
      "image/png": "[encoded data removed]",
      "text/plain": [
       "<Figure size 432x288 with 1 Axes>"
      ]
     },
     "metadata": {
      "needs_background": "light"
     },
     "output_type": "display_data"
    }
   ],
   "source": [
    "batch_processing(Raw,Target)"
   ]
  },
  {
   "cell_type": "code",
   "execution_count": null,
   "id": "a0abc601-9d90-46ed-bfc6-45562aa0ed7e",
   "metadata": {},
   "outputs": [],
   "source": []
  },
  {
   "cell_type": "code",
   "execution_count": null,
   "id": "e286f3d1-909f-487d-be70-3971037c4782",
   "metadata": {},
   "outputs": [],
   "source": []
  },
  {
   "cell_type": "code",
   "execution_count": null,
   "id": "1bd38534-53ff-4e98-96c4-4ba1f0185a2a",
   "metadata": {},
   "outputs": [],
   "source": []
  },
  {
   "cell_type": "code",
   "execution_count": null,
   "id": "8090e1fb-909f-45aa-9b55-8e69c51622e1",
   "metadata": {},
   "outputs": [],
   "source": []
  },
  {
   "cell_type": "code",
   "execution_count": null,
   "id": "e44c35ef-0b45-4824-bc21-12a81371af3c",
   "metadata": {},
   "outputs": [],
   "source": []
  },
  {
   "cell_type": "code",
   "execution_count": null,
   "id": "6fbf22bf-6406-4bd6-b362-90f3a7e047f8",
   "metadata": {},
   "outputs": [],
   "source": []
  },
  {
   "cell_type": "code",
   "execution_count": null,
   "id": "b074d6e6-f0ba-4700-97a2-90ebb73c5cfc",
   "metadata": {},
   "outputs": [],
   "source": []
  },
  {
   "cell_type": "code",
   "execution_count": null,
   "id": "8d55460f-1224-4720-b996-7e4663200797",
   "metadata": {},
   "outputs": [],
   "source": []
  },
  {
   "cell_type": "code",
   "execution_count": null,
   "id": "f2e41f4e-b9b4-48e8-92f2-c66dd1be6fe3",
   "metadata": {},
   "outputs": [],
   "source": []
  },
  {
   "cell_type": "code",
   "execution_count": null,
   "id": "ddddb391-303e-4589-a4d2-d308eebacc7e",
   "metadata": {},
   "outputs": [],
   "source": [
    "samplerate,samplewidth, data = readwav('./audio.wav')\n",
    "sig = data/samplerate\n",
    "print(\"sampling rate = {} Hz, length = {} samples, channels = {}\".format(samplerate, *sig.shape))"
   ]
  }
 ],
 "metadata": {
  "kernelspec": {
   "display_name": "Python 3",
   "language": "python",
   "name": "python3"
  },
  "language_info": {
   "codemirror_mode": {
    "name": "ipython",
    "version": 3
   },
   "file_extension": ".py",
   "mimetype": "text/x-python",
   "name": "python",
   "nbconvert_exporter": "python",
   "pygments_lexer": "ipython3",
   "version": "3.8.8"
  }
 },
 "nbformat": 4,
 "nbformat_minor": 5
}
